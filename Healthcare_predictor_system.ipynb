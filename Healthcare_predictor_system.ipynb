{
  "nbformat": 4,
  "nbformat_minor": 0,
  "metadata": {
    "colab": {
      "provenance": [],
      "gpuType": "T4",
      "authorship_tag": "ABX9TyNyV6/z81kUu5bWKy7HY3xE",
      "include_colab_link": true
    },
    "kernelspec": {
      "name": "python3",
      "display_name": "Python 3"
    },
    "language_info": {
      "name": "python"
    },
    "accelerator": "GPU"
  },
  "cells": [
    {
      "cell_type": "markdown",
      "metadata": {
        "id": "view-in-github",
        "colab_type": "text"
      },
      "source": [
        "<a href=\"https://colab.research.google.com/github/pontonkid/HealthDiagnoSys/blob/main/Healthcare_predictor_system.ipynb\" target=\"_parent\"><img src=\"https://colab.research.google.com/assets/colab-badge.svg\" alt=\"Open In Colab\"/></a>"
      ]
    },
    {
      "cell_type": "markdown",
      "source": [
        "**Health Diagnosis System**\n",
        "\n",
        "An AI-powered healthcare diagnosis assistant for real-time disease predictions. Leverages natural language processing and machine learning to guide users based on their symptoms."
      ],
      "metadata": {
        "id": "QQ6HLeQPu_qj"
      }
    },
    {
      "cell_type": "markdown",
      "source": [
        "***Installing the libraries***"
      ],
      "metadata": {
        "id": "mgDMAON2-GCK"
      }
    },
    {
      "cell_type": "code",
      "source": [
        "!pip install numpy\n",
        "!pip install pandas\n",
        "!pip install matplotlib\n",
        "!pip install seaborn\n",
        "!pip install scikit-learn\n",
        "!pip install tensorflow\n",
        "!pip install keras\n",
        "!pip install torch\n",
        "!pip install transformers\n",
        "!pip install nltk\n",
        "!pip install gensim\n",
        "\n"
      ],
      "metadata": {
        "id": "LkkGVmfZ-XQz"
      },
      "execution_count": null,
      "outputs": []
    },
    {
      "cell_type": "markdown",
      "source": [
        "**Importing the libraries**"
      ],
      "metadata": {
        "id": "LUSrgEeJYV1x"
      }
    },
    {
      "cell_type": "code",
      "source": [
        "import numpy as np\n",
        "import pandas as pd\n",
        "from sklearn.model_selection import train_test_split\n",
        "from sklearn.ensemble import RandomForestClassifier\n",
        "from sklearn.metrics import accuracy_score, classification_report\n",
        "import tensorflow as tf\n",
        "from sklearn.feature_extraction.text import TfidfVectorizer\n",
        "from sklearn.naive_bayes import MultinomialNB\n",
        "from sklearn.metrics import classification_report, confusion_matrix, accuracy_score\n",
        "import nltk\n",
        "from nltk.corpus import stopwords\n",
        "from nltk.stem import PorterStemmer\n",
        "from gensim.models import Word2Vec\n",
        "import matplotlib.pyplot as plt\n",
        "import seaborn as sns\n",
        "\n",
        "\n",
        "# for using TensorFlow for deep learning\n",
        "from tensorflow.keras.models import Sequential\n",
        "from tensorflow.keras.layers import Dense\n",
        "from tensorflow.keras.optimizers import Adam\n",
        "from tensorflow.keras.losses import categorical_crossentropy\n",
        "\n",
        "# for using PyTorch for deep learning\n",
        "import torch\n",
        "import torch.nn as nn\n",
        "import torch.optim as optim\n",
        "import torch.nn.functional as F\n"
      ],
      "metadata": {
        "id": "wO7Ik0AbYY3o"
      },
      "execution_count": null,
      "outputs": []
    },
    {
      "cell_type": "markdown",
      "source": [
        "**Loading & exploring the data**"
      ],
      "metadata": {
        "id": "u5Fb__16aTRn"
      }
    },
    {
      "cell_type": "code",
      "source": [
        "# Specify the path to the dataset\n",
        "data_path = \"/content/Symptom2Disease.csv\"\n",
        "\n",
        "# Load the dataset into a pandas DataFrame\n",
        "data = pd.read_csv(data_path)\n",
        "\n",
        "# Display the first few rows of the dataset to check if it loaded correctly\n",
        "data.head()\n"
      ],
      "metadata": {
        "colab": {
          "base_uri": "https://localhost:8080/",
          "height": 206
        },
        "id": "SdT4z3oHQjY8",
        "outputId": "4cc07293-9e55-4079-9d6c-bb7488cdb7e3"
      },
      "execution_count": null,
      "outputs": [
        {
          "output_type": "execute_result",
          "data": {
            "text/plain": [
              "   Unnamed: 0      label                                               text\n",
              "0           0  Psoriasis  I have been experiencing a skin rash on my arm...\n",
              "1           1  Psoriasis  My skin has been peeling, especially on my kne...\n",
              "2           2  Psoriasis  I have been experiencing joint pain in my fing...\n",
              "3           3  Psoriasis  There is a silver like dusting on my skin, esp...\n",
              "4           4  Psoriasis  My nails have small dents or pits in them, and..."
            ],
            "text/html": [
              "\n",
              "  <div id=\"df-00fa252a-9b25-48c2-9c61-3e4ed5ad7527\" class=\"colab-df-container\">\n",
              "    <div>\n",
              "<style scoped>\n",
              "    .dataframe tbody tr th:only-of-type {\n",
              "        vertical-align: middle;\n",
              "    }\n",
              "\n",
              "    .dataframe tbody tr th {\n",
              "        vertical-align: top;\n",
              "    }\n",
              "\n",
              "    .dataframe thead th {\n",
              "        text-align: right;\n",
              "    }\n",
              "</style>\n",
              "<table border=\"1\" class=\"dataframe\">\n",
              "  <thead>\n",
              "    <tr style=\"text-align: right;\">\n",
              "      <th></th>\n",
              "      <th>Unnamed: 0</th>\n",
              "      <th>label</th>\n",
              "      <th>text</th>\n",
              "    </tr>\n",
              "  </thead>\n",
              "  <tbody>\n",
              "    <tr>\n",
              "      <th>0</th>\n",
              "      <td>0</td>\n",
              "      <td>Psoriasis</td>\n",
              "      <td>I have been experiencing a skin rash on my arm...</td>\n",
              "    </tr>\n",
              "    <tr>\n",
              "      <th>1</th>\n",
              "      <td>1</td>\n",
              "      <td>Psoriasis</td>\n",
              "      <td>My skin has been peeling, especially on my kne...</td>\n",
              "    </tr>\n",
              "    <tr>\n",
              "      <th>2</th>\n",
              "      <td>2</td>\n",
              "      <td>Psoriasis</td>\n",
              "      <td>I have been experiencing joint pain in my fing...</td>\n",
              "    </tr>\n",
              "    <tr>\n",
              "      <th>3</th>\n",
              "      <td>3</td>\n",
              "      <td>Psoriasis</td>\n",
              "      <td>There is a silver like dusting on my skin, esp...</td>\n",
              "    </tr>\n",
              "    <tr>\n",
              "      <th>4</th>\n",
              "      <td>4</td>\n",
              "      <td>Psoriasis</td>\n",
              "      <td>My nails have small dents or pits in them, and...</td>\n",
              "    </tr>\n",
              "  </tbody>\n",
              "</table>\n",
              "</div>\n",
              "    <div class=\"colab-df-buttons\">\n",
              "\n",
              "  <div class=\"colab-df-container\">\n",
              "    <button class=\"colab-df-convert\" onclick=\"convertToInteractive('df-00fa252a-9b25-48c2-9c61-3e4ed5ad7527')\"\n",
              "            title=\"Convert this dataframe to an interactive table.\"\n",
              "            style=\"display:none;\">\n",
              "\n",
              "  <svg xmlns=\"http://www.w3.org/2000/svg\" height=\"24px\" viewBox=\"0 -960 960 960\">\n",
              "    <path d=\"M120-120v-720h720v720H120Zm60-500h600v-160H180v160Zm220 220h160v-160H400v160Zm0 220h160v-160H400v160ZM180-400h160v-160H180v160Zm440 0h160v-160H620v160ZM180-180h160v-160H180v160Zm440 0h160v-160H620v160Z\"/>\n",
              "  </svg>\n",
              "    </button>\n",
              "\n",
              "  <style>\n",
              "    .colab-df-container {\n",
              "      display:flex;\n",
              "      gap: 12px;\n",
              "    }\n",
              "\n",
              "    .colab-df-convert {\n",
              "      background-color: #E8F0FE;\n",
              "      border: none;\n",
              "      border-radius: 50%;\n",
              "      cursor: pointer;\n",
              "      display: none;\n",
              "      fill: #1967D2;\n",
              "      height: 32px;\n",
              "      padding: 0 0 0 0;\n",
              "      width: 32px;\n",
              "    }\n",
              "\n",
              "    .colab-df-convert:hover {\n",
              "      background-color: #E2EBFA;\n",
              "      box-shadow: 0px 1px 2px rgba(60, 64, 67, 0.3), 0px 1px 3px 1px rgba(60, 64, 67, 0.15);\n",
              "      fill: #174EA6;\n",
              "    }\n",
              "\n",
              "    .colab-df-buttons div {\n",
              "      margin-bottom: 4px;\n",
              "    }\n",
              "\n",
              "    [theme=dark] .colab-df-convert {\n",
              "      background-color: #3B4455;\n",
              "      fill: #D2E3FC;\n",
              "    }\n",
              "\n",
              "    [theme=dark] .colab-df-convert:hover {\n",
              "      background-color: #434B5C;\n",
              "      box-shadow: 0px 1px 3px 1px rgba(0, 0, 0, 0.15);\n",
              "      filter: drop-shadow(0px 1px 2px rgba(0, 0, 0, 0.3));\n",
              "      fill: #FFFFFF;\n",
              "    }\n",
              "  </style>\n",
              "\n",
              "    <script>\n",
              "      const buttonEl =\n",
              "        document.querySelector('#df-00fa252a-9b25-48c2-9c61-3e4ed5ad7527 button.colab-df-convert');\n",
              "      buttonEl.style.display =\n",
              "        google.colab.kernel.accessAllowed ? 'block' : 'none';\n",
              "\n",
              "      async function convertToInteractive(key) {\n",
              "        const element = document.querySelector('#df-00fa252a-9b25-48c2-9c61-3e4ed5ad7527');\n",
              "        const dataTable =\n",
              "          await google.colab.kernel.invokeFunction('convertToInteractive',\n",
              "                                                    [key], {});\n",
              "        if (!dataTable) return;\n",
              "\n",
              "        const docLinkHtml = 'Like what you see? Visit the ' +\n",
              "          '<a target=\"_blank\" href=https://colab.research.google.com/notebooks/data_table.ipynb>data table notebook</a>'\n",
              "          + ' to learn more about interactive tables.';\n",
              "        element.innerHTML = '';\n",
              "        dataTable['output_type'] = 'display_data';\n",
              "        await google.colab.output.renderOutput(dataTable, element);\n",
              "        const docLink = document.createElement('div');\n",
              "        docLink.innerHTML = docLinkHtml;\n",
              "        element.appendChild(docLink);\n",
              "      }\n",
              "    </script>\n",
              "  </div>\n",
              "\n",
              "\n",
              "<div id=\"df-a9b7dab7-b1be-4ef7-8372-7dd83fd85a41\">\n",
              "  <button class=\"colab-df-quickchart\" onclick=\"quickchart('df-a9b7dab7-b1be-4ef7-8372-7dd83fd85a41')\"\n",
              "            title=\"Suggest charts.\"\n",
              "            style=\"display:none;\">\n",
              "\n",
              "<svg xmlns=\"http://www.w3.org/2000/svg\" height=\"24px\"viewBox=\"0 0 24 24\"\n",
              "     width=\"24px\">\n",
              "    <g>\n",
              "        <path d=\"M19 3H5c-1.1 0-2 .9-2 2v14c0 1.1.9 2 2 2h14c1.1 0 2-.9 2-2V5c0-1.1-.9-2-2-2zM9 17H7v-7h2v7zm4 0h-2V7h2v10zm4 0h-2v-4h2v4z\"/>\n",
              "    </g>\n",
              "</svg>\n",
              "  </button>\n",
              "\n",
              "<style>\n",
              "  .colab-df-quickchart {\n",
              "      --bg-color: #E8F0FE;\n",
              "      --fill-color: #1967D2;\n",
              "      --hover-bg-color: #E2EBFA;\n",
              "      --hover-fill-color: #174EA6;\n",
              "      --disabled-fill-color: #AAA;\n",
              "      --disabled-bg-color: #DDD;\n",
              "  }\n",
              "\n",
              "  [theme=dark] .colab-df-quickchart {\n",
              "      --bg-color: #3B4455;\n",
              "      --fill-color: #D2E3FC;\n",
              "      --hover-bg-color: #434B5C;\n",
              "      --hover-fill-color: #FFFFFF;\n",
              "      --disabled-bg-color: #3B4455;\n",
              "      --disabled-fill-color: #666;\n",
              "  }\n",
              "\n",
              "  .colab-df-quickchart {\n",
              "    background-color: var(--bg-color);\n",
              "    border: none;\n",
              "    border-radius: 50%;\n",
              "    cursor: pointer;\n",
              "    display: none;\n",
              "    fill: var(--fill-color);\n",
              "    height: 32px;\n",
              "    padding: 0;\n",
              "    width: 32px;\n",
              "  }\n",
              "\n",
              "  .colab-df-quickchart:hover {\n",
              "    background-color: var(--hover-bg-color);\n",
              "    box-shadow: 0 1px 2px rgba(60, 64, 67, 0.3), 0 1px 3px 1px rgba(60, 64, 67, 0.15);\n",
              "    fill: var(--button-hover-fill-color);\n",
              "  }\n",
              "\n",
              "  .colab-df-quickchart-complete:disabled,\n",
              "  .colab-df-quickchart-complete:disabled:hover {\n",
              "    background-color: var(--disabled-bg-color);\n",
              "    fill: var(--disabled-fill-color);\n",
              "    box-shadow: none;\n",
              "  }\n",
              "\n",
              "  .colab-df-spinner {\n",
              "    border: 2px solid var(--fill-color);\n",
              "    border-color: transparent;\n",
              "    border-bottom-color: var(--fill-color);\n",
              "    animation:\n",
              "      spin 1s steps(1) infinite;\n",
              "  }\n",
              "\n",
              "  @keyframes spin {\n",
              "    0% {\n",
              "      border-color: transparent;\n",
              "      border-bottom-color: var(--fill-color);\n",
              "      border-left-color: var(--fill-color);\n",
              "    }\n",
              "    20% {\n",
              "      border-color: transparent;\n",
              "      border-left-color: var(--fill-color);\n",
              "      border-top-color: var(--fill-color);\n",
              "    }\n",
              "    30% {\n",
              "      border-color: transparent;\n",
              "      border-left-color: var(--fill-color);\n",
              "      border-top-color: var(--fill-color);\n",
              "      border-right-color: var(--fill-color);\n",
              "    }\n",
              "    40% {\n",
              "      border-color: transparent;\n",
              "      border-right-color: var(--fill-color);\n",
              "      border-top-color: var(--fill-color);\n",
              "    }\n",
              "    60% {\n",
              "      border-color: transparent;\n",
              "      border-right-color: var(--fill-color);\n",
              "    }\n",
              "    80% {\n",
              "      border-color: transparent;\n",
              "      border-right-color: var(--fill-color);\n",
              "      border-bottom-color: var(--fill-color);\n",
              "    }\n",
              "    90% {\n",
              "      border-color: transparent;\n",
              "      border-bottom-color: var(--fill-color);\n",
              "    }\n",
              "  }\n",
              "</style>\n",
              "\n",
              "  <script>\n",
              "    async function quickchart(key) {\n",
              "      const quickchartButtonEl =\n",
              "        document.querySelector('#' + key + ' button');\n",
              "      quickchartButtonEl.disabled = true;  // To prevent multiple clicks.\n",
              "      quickchartButtonEl.classList.add('colab-df-spinner');\n",
              "      try {\n",
              "        const charts = await google.colab.kernel.invokeFunction(\n",
              "            'suggestCharts', [key], {});\n",
              "      } catch (error) {\n",
              "        console.error('Error during call to suggestCharts:', error);\n",
              "      }\n",
              "      quickchartButtonEl.classList.remove('colab-df-spinner');\n",
              "      quickchartButtonEl.classList.add('colab-df-quickchart-complete');\n",
              "    }\n",
              "    (() => {\n",
              "      let quickchartButtonEl =\n",
              "        document.querySelector('#df-a9b7dab7-b1be-4ef7-8372-7dd83fd85a41 button');\n",
              "      quickchartButtonEl.style.display =\n",
              "        google.colab.kernel.accessAllowed ? 'block' : 'none';\n",
              "    })();\n",
              "  </script>\n",
              "</div>\n",
              "    </div>\n",
              "  </div>\n"
            ]
          },
          "metadata": {},
          "execution_count": 3
        }
      ]
    },
    {
      "cell_type": "code",
      "source": [
        "# Data Information\n",
        "# Display information about the dataset, including columns, data types, and non-null counts\n",
        "print(\"\\nDataset Information:\")\n",
        "data.info()\n"
      ],
      "metadata": {
        "colab": {
          "base_uri": "https://localhost:8080/"
        },
        "id": "kUG0FqSJSyU1",
        "outputId": "d726de99-fd35-4f24-df5b-bedc2aa2c0cc"
      },
      "execution_count": null,
      "outputs": [
        {
          "output_type": "stream",
          "name": "stdout",
          "text": [
            "\n",
            "Dataset Information:\n",
            "<class 'pandas.core.frame.DataFrame'>\n",
            "RangeIndex: 1200 entries, 0 to 1199\n",
            "Data columns (total 3 columns):\n",
            " #   Column      Non-Null Count  Dtype \n",
            "---  ------      --------------  ----- \n",
            " 0   Unnamed: 0  1200 non-null   int64 \n",
            " 1   label       1200 non-null   object\n",
            " 2   text        1200 non-null   object\n",
            "dtypes: int64(1), object(2)\n",
            "memory usage: 28.2+ KB\n"
          ]
        }
      ]
    },
    {
      "cell_type": "code",
      "source": [
        "# Count the occurrences of each disease\n",
        "disease_counts = data['label'].value_counts()\n",
        "print(\"Number of Each Disease:\")\n",
        "print(disease_counts)\n"
      ],
      "metadata": {
        "colab": {
          "base_uri": "https://localhost:8080/"
        },
        "id": "BDvOmhe2TnOq",
        "outputId": "45fafab3-f036-4723-ac4a-9983fcd6b27f"
      },
      "execution_count": null,
      "outputs": [
        {
          "output_type": "stream",
          "name": "stdout",
          "text": [
            "Number of Each Disease:\n",
            "Psoriasis                          50\n",
            "Varicose Veins                     50\n",
            "peptic ulcer disease               50\n",
            "drug reaction                      50\n",
            "gastroesophageal reflux disease    50\n",
            "allergy                            50\n",
            "urinary tract infection            50\n",
            "Malaria                            50\n",
            "Jaundice                           50\n",
            "Cervical spondylosis               50\n",
            "Migraine                           50\n",
            "Hypertension                       50\n",
            "Bronchial Asthma                   50\n",
            "Acne                               50\n",
            "Arthritis                          50\n",
            "Dimorphic Hemorrhoids              50\n",
            "Pneumonia                          50\n",
            "Common Cold                        50\n",
            "Fungal infection                   50\n",
            "Dengue                             50\n",
            "Impetigo                           50\n",
            "Chicken pox                        50\n",
            "Typhoid                            50\n",
            "diabetes                           50\n",
            "Name: label, dtype: int64\n"
          ]
        }
      ]
    },
    {
      "cell_type": "code",
      "source": [
        "# Missing Values\n",
        "# Check for missing values\n",
        "missing_values = data.isnull().sum()\n",
        "print(\"\\nMissing Values:\")\n",
        "print(missing_values)\n"
      ],
      "metadata": {
        "colab": {
          "base_uri": "https://localhost:8080/"
        },
        "id": "ZAaH_HdtTKE9",
        "outputId": "87da3f4d-900b-4358-d598-1bacf185ce27"
      },
      "execution_count": null,
      "outputs": [
        {
          "output_type": "stream",
          "name": "stdout",
          "text": [
            "\n",
            "Missing Values:\n",
            "Unnamed: 0    0\n",
            "label         0\n",
            "text          0\n",
            "dtype: int64\n"
          ]
        }
      ]
    },
    {
      "cell_type": "markdown",
      "source": [
        "**Data Preprocessing**"
      ],
      "metadata": {
        "id": "qKwOL4GbUVtK"
      }
    },
    {
      "cell_type": "code",
      "source": [
        "import nltk\n",
        "from nltk.corpus import stopwords\n",
        "from nltk.stem import PorterStemmer\n",
        "\n",
        "# Initialize the NLTK stopwords and stemmer\n",
        "nltk.download('stopwords')\n",
        "stop_words = set(stopwords.words('english'))\n",
        "stemmer = PorterStemmer()\n",
        "\n",
        "# Text Preprocessing Function\n",
        "def preprocess_text(text):\n",
        "    # Convert text to lowercase\n",
        "    text = text.lower()\n",
        "\n",
        "    # Tokenization (split the text into words)\n",
        "    words = text.split()\n",
        "\n",
        "    # Removing Punctuation and Stop Words, and Applying Stemming\n",
        "    words = [stemmer.stem(word) for word in words if word.isalnum() and word not in stop_words]\n",
        "\n",
        "    # Rejoin the words into a processed text\n",
        "    processed_text = ' '.join(words)\n",
        "\n",
        "    return processed_text\n",
        "\n",
        "# Apply text preprocessing to the 'text' column of the dataset\n",
        "data['text'] = data['text'].apply(preprocess_text)\n"
      ],
      "metadata": {
        "colab": {
          "base_uri": "https://localhost:8080/"
        },
        "id": "R1OShgsjUX1n",
        "outputId": "4299643b-a04b-4876-9583-34bdfe65859a"
      },
      "execution_count": null,
      "outputs": [
        {
          "output_type": "stream",
          "name": "stderr",
          "text": [
            "[nltk_data] Downloading package stopwords to /root/nltk_data...\n",
            "[nltk_data]   Unzipping corpora/stopwords.zip.\n"
          ]
        }
      ]
    },
    {
      "cell_type": "code",
      "source": [
        "import nltk\n",
        "\n",
        "# Download the stopwords resource\n",
        "nltk.download('stopwords', quiet=True)\n"
      ],
      "metadata": {
        "colab": {
          "base_uri": "https://localhost:8080/"
        },
        "id": "QUFlbFZNVzez",
        "outputId": "695cda81-1ae0-4425-dcfd-8b7465ff8494"
      },
      "execution_count": null,
      "outputs": [
        {
          "output_type": "execute_result",
          "data": {
            "text/plain": [
              "True"
            ]
          },
          "metadata": {},
          "execution_count": 8
        }
      ]
    },
    {
      "cell_type": "code",
      "source": [
        "from sklearn.feature_extraction.text import TfidfVectorizer\n",
        "\n",
        "# Initialize the TF-IDF vectorizer\n",
        "tfidf_vectorizer = TfidfVectorizer()\n",
        "\n",
        "# Apply TF-IDF vectorization to the preprocessed text data\n",
        "X = tfidf_vectorizer.fit_transform(data['text'])\n",
        "\n",
        "# X is now the numerical feature matrix\n",
        "# You can also access feature names using tfidf_vectorizer.get_feature_names()\n"
      ],
      "metadata": {
        "id": "vNXH_bsBWWTY"
      },
      "execution_count": null,
      "outputs": []
    },
    {
      "cell_type": "markdown",
      "source": [
        "**Splitting the data**"
      ],
      "metadata": {
        "id": "GRlxcg3ziA3A"
      }
    },
    {
      "cell_type": "code",
      "source": [
        "from sklearn.model_selection import train_test_split\n",
        "\n",
        "# Split the dataset into a training set and a testing set\n",
        "X_train, X_test, y_train, y_test = train_test_split(X, data['label'], test_size=0.2, random_state=42)\n",
        "\n",
        "# X_train: Training feature matrix\n",
        "# X_test: Testing feature matrix\n",
        "# y_train: Training labels\n",
        "# y_test: Testing labels\n"
      ],
      "metadata": {
        "id": "_x9v8YGAWjqW"
      },
      "execution_count": null,
      "outputs": []
    },
    {
      "cell_type": "markdown",
      "source": [
        "**Model Training**"
      ],
      "metadata": {
        "id": "_xbxpPnEivDG"
      }
    },
    {
      "cell_type": "code",
      "source": [
        "from sklearn.naive_bayes import MultinomialNB\n",
        "\n",
        "# Initialize the Multinomial Naive Bayes model\n",
        "model = MultinomialNB()\n",
        "\n",
        "# Train the model on the training data\n",
        "model.fit(X_train, y_train)\n"
      ],
      "metadata": {
        "colab": {
          "base_uri": "https://localhost:8080/",
          "height": 75
        },
        "id": "oVVLqw15WvOX",
        "outputId": "35b88f16-ec13-46aa-8b20-9db9cb5cd67a"
      },
      "execution_count": null,
      "outputs": [
        {
          "output_type": "execute_result",
          "data": {
            "text/plain": [
              "MultinomialNB()"
            ],
            "text/html": [
              "<style>#sk-container-id-1 {color: black;background-color: white;}#sk-container-id-1 pre{padding: 0;}#sk-container-id-1 div.sk-toggleable {background-color: white;}#sk-container-id-1 label.sk-toggleable__label {cursor: pointer;display: block;width: 100%;margin-bottom: 0;padding: 0.3em;box-sizing: border-box;text-align: center;}#sk-container-id-1 label.sk-toggleable__label-arrow:before {content: \"▸\";float: left;margin-right: 0.25em;color: #696969;}#sk-container-id-1 label.sk-toggleable__label-arrow:hover:before {color: black;}#sk-container-id-1 div.sk-estimator:hover label.sk-toggleable__label-arrow:before {color: black;}#sk-container-id-1 div.sk-toggleable__content {max-height: 0;max-width: 0;overflow: hidden;text-align: left;background-color: #f0f8ff;}#sk-container-id-1 div.sk-toggleable__content pre {margin: 0.2em;color: black;border-radius: 0.25em;background-color: #f0f8ff;}#sk-container-id-1 input.sk-toggleable__control:checked~div.sk-toggleable__content {max-height: 200px;max-width: 100%;overflow: auto;}#sk-container-id-1 input.sk-toggleable__control:checked~label.sk-toggleable__label-arrow:before {content: \"▾\";}#sk-container-id-1 div.sk-estimator input.sk-toggleable__control:checked~label.sk-toggleable__label {background-color: #d4ebff;}#sk-container-id-1 div.sk-label input.sk-toggleable__control:checked~label.sk-toggleable__label {background-color: #d4ebff;}#sk-container-id-1 input.sk-hidden--visually {border: 0;clip: rect(1px 1px 1px 1px);clip: rect(1px, 1px, 1px, 1px);height: 1px;margin: -1px;overflow: hidden;padding: 0;position: absolute;width: 1px;}#sk-container-id-1 div.sk-estimator {font-family: monospace;background-color: #f0f8ff;border: 1px dotted black;border-radius: 0.25em;box-sizing: border-box;margin-bottom: 0.5em;}#sk-container-id-1 div.sk-estimator:hover {background-color: #d4ebff;}#sk-container-id-1 div.sk-parallel-item::after {content: \"\";width: 100%;border-bottom: 1px solid gray;flex-grow: 1;}#sk-container-id-1 div.sk-label:hover label.sk-toggleable__label {background-color: #d4ebff;}#sk-container-id-1 div.sk-serial::before {content: \"\";position: absolute;border-left: 1px solid gray;box-sizing: border-box;top: 0;bottom: 0;left: 50%;z-index: 0;}#sk-container-id-1 div.sk-serial {display: flex;flex-direction: column;align-items: center;background-color: white;padding-right: 0.2em;padding-left: 0.2em;position: relative;}#sk-container-id-1 div.sk-item {position: relative;z-index: 1;}#sk-container-id-1 div.sk-parallel {display: flex;align-items: stretch;justify-content: center;background-color: white;position: relative;}#sk-container-id-1 div.sk-item::before, #sk-container-id-1 div.sk-parallel-item::before {content: \"\";position: absolute;border-left: 1px solid gray;box-sizing: border-box;top: 0;bottom: 0;left: 50%;z-index: -1;}#sk-container-id-1 div.sk-parallel-item {display: flex;flex-direction: column;z-index: 1;position: relative;background-color: white;}#sk-container-id-1 div.sk-parallel-item:first-child::after {align-self: flex-end;width: 50%;}#sk-container-id-1 div.sk-parallel-item:last-child::after {align-self: flex-start;width: 50%;}#sk-container-id-1 div.sk-parallel-item:only-child::after {width: 0;}#sk-container-id-1 div.sk-dashed-wrapped {border: 1px dashed gray;margin: 0 0.4em 0.5em 0.4em;box-sizing: border-box;padding-bottom: 0.4em;background-color: white;}#sk-container-id-1 div.sk-label label {font-family: monospace;font-weight: bold;display: inline-block;line-height: 1.2em;}#sk-container-id-1 div.sk-label-container {text-align: center;}#sk-container-id-1 div.sk-container {/* jupyter's `normalize.less` sets `[hidden] { display: none; }` but bootstrap.min.css set `[hidden] { display: none !important; }` so we also need the `!important` here to be able to override the default hidden behavior on the sphinx rendered scikit-learn.org. See: https://github.com/scikit-learn/scikit-learn/issues/21755 */display: inline-block !important;position: relative;}#sk-container-id-1 div.sk-text-repr-fallback {display: none;}</style><div id=\"sk-container-id-1\" class=\"sk-top-container\"><div class=\"sk-text-repr-fallback\"><pre>MultinomialNB()</pre><b>In a Jupyter environment, please rerun this cell to show the HTML representation or trust the notebook. <br />On GitHub, the HTML representation is unable to render, please try loading this page with nbviewer.org.</b></div><div class=\"sk-container\" hidden><div class=\"sk-item\"><div class=\"sk-estimator sk-toggleable\"><input class=\"sk-toggleable__control sk-hidden--visually\" id=\"sk-estimator-id-1\" type=\"checkbox\" checked><label for=\"sk-estimator-id-1\" class=\"sk-toggleable__label sk-toggleable__label-arrow\">MultinomialNB</label><div class=\"sk-toggleable__content\"><pre>MultinomialNB()</pre></div></div></div></div></div>"
            ]
          },
          "metadata": {},
          "execution_count": 11
        }
      ]
    },
    {
      "cell_type": "markdown",
      "source": [
        "**Evaluation**"
      ],
      "metadata": {
        "id": "AYp_jVs-XT5j"
      }
    },
    {
      "cell_type": "code",
      "source": [
        "from sklearn.metrics import accuracy_score, classification_report, confusion_matrix\n",
        "\n",
        "# Make predictions on the testing set\n",
        "y_pred = model.predict(X_test)\n",
        "\n",
        "# Calculate accuracy\n",
        "accuracy = accuracy_score(y_test, y_pred)\n",
        "print(f'Accuracy: {accuracy:.2f}')\n",
        "\n",
        "# Generate a classification report\n",
        "classification_rep = classification_report(y_test, y_pred)\n",
        "print('\\nClassification Report:\\n', classification_rep)\n",
        "\n",
        "# Generate a confusion matrix\n",
        "confusion_mat = confusion_matrix(y_test, y_pred)\n",
        "print('\\nConfusion Matrix:\\n', confusion_mat)\n"
      ],
      "metadata": {
        "colab": {
          "base_uri": "https://localhost:8080/"
        },
        "id": "O-o4uwi-XWaH",
        "outputId": "595ba3a6-294c-45f3-bd68-252a91324b6d"
      },
      "execution_count": null,
      "outputs": [
        {
          "output_type": "stream",
          "name": "stdout",
          "text": [
            "Accuracy: 0.92\n",
            "\n",
            "Classification Report:\n",
            "                                  precision    recall  f1-score   support\n",
            "\n",
            "                           Acne       1.00      1.00      1.00         7\n",
            "                      Arthritis       0.83      1.00      0.91        10\n",
            "               Bronchial Asthma       0.85      1.00      0.92        11\n",
            "           Cervical spondylosis       0.88      1.00      0.93         7\n",
            "                    Chicken pox       0.92      1.00      0.96        12\n",
            "                    Common Cold       1.00      1.00      1.00        12\n",
            "                         Dengue       0.91      0.83      0.87        12\n",
            "          Dimorphic Hemorrhoids       0.78      1.00      0.88         7\n",
            "               Fungal infection       1.00      1.00      1.00        13\n",
            "                   Hypertension       1.00      1.00      1.00        10\n",
            "                       Impetigo       1.00      1.00      1.00        11\n",
            "                       Jaundice       0.92      1.00      0.96        11\n",
            "                        Malaria       0.92      1.00      0.96        11\n",
            "                       Migraine       1.00      0.90      0.95        10\n",
            "                      Pneumonia       1.00      1.00      1.00        11\n",
            "                      Psoriasis       1.00      0.67      0.80         6\n",
            "                        Typhoid       0.88      0.78      0.82         9\n",
            "                 Varicose Veins       1.00      1.00      1.00        12\n",
            "                        allergy       1.00      0.75      0.86        12\n",
            "                       diabetes       1.00      1.00      1.00         8\n",
            "                  drug reaction       1.00      1.00      1.00         5\n",
            "gastroesophageal reflux disease       0.61      1.00      0.76        11\n",
            "           peptic ulcer disease       1.00      0.27      0.43        11\n",
            "        urinary tract infection       1.00      0.91      0.95        11\n",
            "\n",
            "                       accuracy                           0.92       240\n",
            "                      macro avg       0.94      0.92      0.91       240\n",
            "                   weighted avg       0.94      0.92      0.91       240\n",
            "\n",
            "\n",
            "Confusion Matrix:\n",
            " [[ 7  0  0  0  0  0  0  0  0  0  0  0  0  0  0  0  0  0  0  0  0  0  0  0]\n",
            " [ 0 10  0  0  0  0  0  0  0  0  0  0  0  0  0  0  0  0  0  0  0  0  0  0]\n",
            " [ 0  0 11  0  0  0  0  0  0  0  0  0  0  0  0  0  0  0  0  0  0  0  0  0]\n",
            " [ 0  0  0  7  0  0  0  0  0  0  0  0  0  0  0  0  0  0  0  0  0  0  0  0]\n",
            " [ 0  0  0  0 12  0  0  0  0  0  0  0  0  0  0  0  0  0  0  0  0  0  0  0]\n",
            " [ 0  0  0  0  0 12  0  0  0  0  0  0  0  0  0  0  0  0  0  0  0  0  0  0]\n",
            " [ 0  0  0  1  1  0 10  0  0  0  0  0  0  0  0  0  0  0  0  0  0  0  0  0]\n",
            " [ 0  0  0  0  0  0  0  7  0  0  0  0  0  0  0  0  0  0  0  0  0  0  0  0]\n",
            " [ 0  0  0  0  0  0  0  0 13  0  0  0  0  0  0  0  0  0  0  0  0  0  0  0]\n",
            " [ 0  0  0  0  0  0  0  0  0 10  0  0  0  0  0  0  0  0  0  0  0  0  0  0]\n",
            " [ 0  0  0  0  0  0  0  0  0  0 11  0  0  0  0  0  0  0  0  0  0  0  0  0]\n",
            " [ 0  0  0  0  0  0  0  0  0  0  0 11  0  0  0  0  0  0  0  0  0  0  0  0]\n",
            " [ 0  0  0  0  0  0  0  0  0  0  0  0 11  0  0  0  0  0  0  0  0  0  0  0]\n",
            " [ 0  1  0  0  0  0  0  0  0  0  0  0  0  9  0  0  0  0  0  0  0  0  0  0]\n",
            " [ 0  0  0  0  0  0  0  0  0  0  0  0  0  0 11  0  0  0  0  0  0  0  0  0]\n",
            " [ 0  1  0  0  0  0  1  0  0  0  0  0  0  0  0  4  0  0  0  0  0  0  0  0]\n",
            " [ 0  0  0  0  0  0  0  0  0  0  0  1  1  0  0  0  7  0  0  0  0  0  0  0]\n",
            " [ 0  0  0  0  0  0  0  0  0  0  0  0  0  0  0  0  0 12  0  0  0  0  0  0]\n",
            " [ 0  0  2  0  0  0  0  0  0  0  0  0  0  0  0  0  0  0  9  0  0  1  0  0]\n",
            " [ 0  0  0  0  0  0  0  0  0  0  0  0  0  0  0  0  0  0  0  8  0  0  0  0]\n",
            " [ 0  0  0  0  0  0  0  0  0  0  0  0  0  0  0  0  0  0  0  0  5  0  0  0]\n",
            " [ 0  0  0  0  0  0  0  0  0  0  0  0  0  0  0  0  0  0  0  0  0 11  0  0]\n",
            " [ 0  0  0  0  0  0  0  2  0  0  0  0  0  0  0  0  1  0  0  0  0  5  3  0]\n",
            " [ 0  0  0  0  0  0  0  0  0  0  0  0  0  0  0  0  0  0  0  0  0  1  0 10]]\n"
          ]
        }
      ]
    },
    {
      "cell_type": "markdown",
      "source": [
        "**BUILDING THE SYSTEM**\n",
        "\n",
        "Now let's build our system. First we'll code up functions for processing user input and making disease predictions with our model.\n",
        "\n",
        "Then we'll use Streamlit to create a web app interface to display the predictions.\n",
        "\n",
        "We'll take it step-by-step - first the prediction functions, then the Streamlit UI. This will give us an end-to-end disease prediction system."
      ],
      "metadata": {
        "id": "Al4hXaK1irNt"
      }
    },
    {
      "cell_type": "markdown",
      "source": [
        "**Writting the fucnting for handling user input**"
      ],
      "metadata": {
        "id": "1i86zmjbsvUC"
      }
    },
    {
      "cell_type": "code",
      "source": [
        "import re\n",
        "import nltk\n",
        "from nltk.corpus import stopwords\n",
        "\n",
        "nltk.download(\"stopwords\")\n",
        "stop_words = set(stopwords.words(\"english\"))\n",
        "\n",
        "def preprocess_input(user_input):\n",
        "    # Convert to lowercase\n",
        "    user_input = user_input.lower()\n",
        "    # Remove special characters and numbers\n",
        "    user_input = re.sub(r\"[^a-zA-Z\\s]\", \"\", user_input)\n",
        "    # Tokenize the input\n",
        "    user_tokens = user_input.split()\n",
        "    # Remove stopwords\n",
        "    user_tokens = [word for word in user_tokens if word not in stop_words]\n",
        "    # Join the tokens back into a clean text\n",
        "    user_clean_text = \" \".join(user_tokens)\n",
        "    return user_clean_text\n",
        "\n",
        "# Example usage:\n",
        "user_input = \"I have a fever and cough\"\n",
        "cleaned_input = preprocess_input(user_input)\n",
        "print(cleaned_input)\n"
      ],
      "metadata": {
        "colab": {
          "base_uri": "https://localhost:8080/"
        },
        "id": "T7G3_9aEiwO0",
        "outputId": "6ec65f23-9e32-4e73-ff86-b8d24a4208b5"
      },
      "execution_count": null,
      "outputs": [
        {
          "output_type": "stream",
          "name": "stdout",
          "text": [
            "fever cough\n"
          ]
        },
        {
          "output_type": "stream",
          "name": "stderr",
          "text": [
            "[nltk_data] Downloading package stopwords to /root/nltk_data...\n",
            "[nltk_data]   Package stopwords is already up-to-date!\n"
          ]
        }
      ]
    },
    {
      "cell_type": "markdown",
      "source": [
        "**Model Prediction Function**"
      ],
      "metadata": {
        "id": "4jMCToiYs-hA"
      }
    },
    {
      "cell_type": "code",
      "source": [
        "from sklearn.feature_extraction.text import TfidfVectorizer\n",
        "from sklearn.naive_bayes import MultinomialNB\n",
        "\n",
        "# Initialize the TF-IDF vectorizer\n",
        "tfidf_vectorizer = TfidfVectorizer()\n",
        "\n",
        "# Apply TF-IDF vectorization to the preprocessed text data\n",
        "X = tfidf_vectorizer.fit_transform(data['text'])\n",
        "\n",
        "# Split the dataset into a training set and a testing set\n",
        "X_train, X_test, y_train, y_test = train_test_split(X, data['label'], test_size=0.2, random_state=42)\n",
        "\n",
        "# Initialize the Multinomial Naive Bayes model\n",
        "model = MultinomialNB()\n",
        "\n",
        "# Train the model on the training data\n",
        "model.fit(X_train, y_train)\n",
        "\n",
        "# Function to predict diseases based on user input\n",
        "def predict_diseases(user_clean_text):\n",
        "    # Vectorize the cleaned user input using the same TF-IDF vectorizer\n",
        "    user_input_vector = tfidf_vectorizer.transform([user_clean_text])\n",
        "    # Make predictions using the trained model\n",
        "    predictions = model.predict(user_input_vector)\n",
        "    return predictions\n",
        "\n",
        "# Example usage:\n",
        "user_clean_text = \"fever cough\"  # This should be the output of your User Input Handling Function\n",
        "predictions = predict_diseases(user_clean_text)\n",
        "print(predictions)\n"
      ],
      "metadata": {
        "colab": {
          "base_uri": "https://localhost:8080/"
        },
        "id": "QYI4ZU2swyM_",
        "outputId": "6313d4cd-7b82-4eea-9475-021eaae2d730"
      },
      "execution_count": null,
      "outputs": [
        {
          "output_type": "stream",
          "name": "stdout",
          "text": [
            "['Bronchial Asthma']\n"
          ]
        }
      ]
    },
    {
      "cell_type": "markdown",
      "source": [
        "**Building the User Interface**"
      ],
      "metadata": {
        "id": "ap9DYQbq1Vow"
      }
    },
    {
      "cell_type": "code",
      "source": [
        "import streamlit as st\n",
        "import re\n",
        "import pandas as pd\n",
        "from sklearn.feature_extraction.text import TfidfVectorizer\n",
        "from sklearn.naive_bayes import MultinomialNB\n",
        "\n",
        "# Load your symptom-disease data\n",
        "data = pd.read_csv(\"Symptom2Disease.csv\")\n",
        "\n",
        "# Initialize the TF-IDF vectorizer\n",
        "tfidf_vectorizer = TfidfVectorizer()\n",
        "\n",
        "# Apply TF-IDF vectorization to the preprocessed text data\n",
        "X = tfidf_vectorizer.fit_transform(data['text'])\n",
        "\n",
        "# Split the dataset into a training set and a testing set\n",
        "X_train, X_test, y_train, y_test = train_test_split(X, data['label'], test_size=0.2, random_state=42)\n",
        "\n",
        "# Initialize the Multinomial Naive Bayes model\n",
        "model = MultinomialNB()\n",
        "\n",
        "# Train the model on the training data\n",
        "model.fit(X_train, y_train)\n",
        "\n",
        "# Set Streamlit app title with emojis\n",
        "st.title(\"Health Symptom-to-Disease Predictor 🏥👨‍⚕️\")\n",
        "\n",
        "# Define a sidebar\n",
        "st.sidebar.title(\"Tool Definition\")\n",
        "st.sidebar.markdown(\"This tool helps you identify possible diseases based on the symptoms you provide. It is not a substitute for professional medical advice. Always consult a healthcare professional for accurate diagnosis and treatment.\")\n",
        "\n",
        "# Initialize chat history\n",
        "if \"messages\" not in st.session_state:\n",
        "    st.session_state.messages = []\n",
        "\n",
        "# Function to preprocess user input\n",
        "def preprocess_input(user_input):\n",
        "    user_input = user_input.lower()  # Convert to lowercase\n",
        "    user_input = re.sub(r\"[^a-zA-Z\\s]\", \"\", user_input)  # Remove special characters and numbers\n",
        "    user_input = \" \".join(user_input.split())  # Remove extra spaces\n",
        "    return user_input\n",
        "\n",
        "# Function to predict diseases based on user input\n",
        "def predict_diseases(user_clean_text):\n",
        "    user_input_vector = tfidf_vectorizer.transform([user_clean_text])  # Vectorize the cleaned user input\n",
        "    predictions = model.predict(user_input_vector)  # Make predictions using the trained model\n",
        "    return predictions\n",
        "\n",
        "# Add user input section\n",
        "user_input = st.text_area(\"Enter your symptoms (how you feel):\", key=\"user_input\")\n",
        "\n",
        "# Add button to predict disease\n",
        "if st.button(\"Predict Disease\"):\n",
        "    # Display loading message\n",
        "    with st.spinner(\"Diagnosing patient...\"):\n",
        "        # Check if user input is not empty\n",
        "        if user_input:\n",
        "            cleaned_input = preprocess_input(user_input)\n",
        "            predicted_diseases = predict_diseases(cleaned_input)\n",
        "\n",
        "            # Display predicted diseases\n",
        "            st.session_state.messages.append({\"role\": \"user\", \"content\": user_input})\n",
        "            st.session_state.messages.append({\"role\": \"assistant\", \"content\": f\"Based on your symptoms, you might have {', '.join(predicted_diseases)}.\"})\n",
        "\n",
        "            st.write(\"Based on your symptoms, you might have:\")\n",
        "            for disease in predicted_diseases:\n",
        "                st.write(f\"- {disease}\")\n",
        "        else:\n",
        "            st.warning(\"Please enter your symptoms before predicting.\")\n",
        "\n",
        "# Display a warning message\n",
        "st.warning(\"Please note that this tool is for informational purposes only. Always consult a healthcare professional for accurate medical advice.\")\n",
        "\n",
        "# Add attribution\n",
        "st.markdown(\"Created with ❤️ by Joas\")\n"
      ],
      "metadata": {
        "id": "lzhQd9OP1ZSm"
      },
      "execution_count": null,
      "outputs": []
    },
    {
      "cell_type": "code",
      "source": [
        "import streamlit as st\n",
        "import re\n",
        "import pandas as pd\n",
        "from sklearn.feature_extraction.text import TfidfVectorizer\n",
        "from sklearn.naive_bayes import MultinomialNB\n",
        "from sklearn.model_selection import train_test_split\n",
        "\n",
        "# Load your symptom-disease data\n",
        "data = pd.read_csv(\"Symptom2Disease.csv\")\n",
        "\n",
        "# Initialize the TF-IDF vectorizer\n",
        "tfidf_vectorizer = TfidfVectorizer()\n",
        "\n",
        "# Apply TF-IDF vectorization to the preprocessed text data\n",
        "X = tfidf_vectorizer.fit_transform(data['text'])\n",
        "\n",
        "# Split the dataset into a training set and a testing set\n",
        "X_train, X_test, y_train, y_test = train_test_split(X, data['label'], test_size=0.2, random_state=42)\n",
        "\n",
        "# Initialize the Multinomial Naive Bayes model\n",
        "model = MultinomialNB()\n",
        "\n",
        "# Train the model on the training data\n",
        "model.fit(X_train, y_train)\n",
        "\n",
        "# Set Streamlit app title with emojis\n",
        "st.title(\"Health Symptom-to-Disease Predictor 🏥👨‍⚕️\")\n",
        "\n",
        "# Define a sidebar\n",
        "st.sidebar.title(\"Tool Definition\")\n",
        "st.sidebar.markdown(\"This tool helps you identify possible diseases based on the symptoms you provide. It is not a substitute for professional medical advice. Always consult a healthcare professional for accurate diagnosis and treatment.\")\n",
        "\n",
        "# Create a checkbox for FAQs\n",
        "show_faqs = st.sidebar.checkbox(\"Frequently Asked Questions\")\n",
        "\n",
        "# Initialize chat history\n",
        "if \"messages\" not in st.session_state:\n",
        "    st.session_state.messages = []\n",
        "\n",
        "# Function to preprocess user input\n",
        "def preprocess_input(user_input):\n",
        "    user_input = user_input.lower()  # Convert to lowercase\n",
        "    user_input = re.sub(r\"[^a-zA-Z\\s]\", \"\", user_input)  # Remove special characters and numbers\n",
        "    user_input = \" \".join(user_input.split())  # Remove extra spaces\n",
        "    return user_input\n",
        "\n",
        "# Function to predict diseases based on user input\n",
        "def predict_diseases(user_clean_text):\n",
        "    user_input_vector = tfidf_vectorizer.transform([user_clean_text])  # Vectorize the cleaned user input\n",
        "    predictions = model.predict(user_input_vector)  # Make predictions using the trained model\n",
        "    return predictions\n",
        "\n",
        "# Add user input section\n",
        "user_input = st.text_area(\"Enter your symptoms (how you feel):\", key=\"user_input\")\n",
        "\n",
        "# Add button to predict disease\n",
        "if st.button(\"Predict Disease\"):\n",
        "    # Display loading message\n",
        "    with st.spinner(\"Diagnosing patient...\"):\n",
        "        # Check if user input is not empty\n",
        "        if user_input:\n",
        "            cleaned_input = preprocess_input(user_input)\n",
        "            predicted_diseases = predict_diseases(cleaned_input)\n",
        "\n",
        "            # Display predicted diseases\n",
        "            st.session_state.messages.append({\"role\": \"user\", \"content\": user_input})\n",
        "            st.session_state.messages.append({\"role\": \"assistant\", \"content\": f\"Based on your symptoms, you might have {', '.join(predicted_diseases)}.\"})\n",
        "\n",
        "            st.write(\"Based on your symptoms, you might have:\")\n",
        "            for disease in predicted_diseases:\n",
        "                st.write(f\"- {disease}\")\n",
        "        else:\n",
        "            st.warning(\"Please enter your symptoms before predicting.\")\n",
        "\n",
        "# Create FAQs section\n",
        "if show_faqs:\n",
        "    st.markdown(\"## Frequently Asked Questions\")\n",
        "    st.markdown(\"**Q: How does this tool work?**\")\n",
        "    st.markdown(\"A: The tool uses a machine learning model to analyze the symptoms you enter and predicts possible diseases based on a pre-trained dataset.\")\n",
        "\n",
        "    st.markdown(\"**Q: Is this a substitute for a doctor's advice?**\")\n",
        "    st.markdown(\"A: No, this tool is for informational purposes only. It's essential to consult a healthcare professional for accurate medical advice.\")\n",
        "\n",
        "    st.markdown(\"**Q: Can I trust the predictions?**\")\n",
        "    st.markdown(\"A: While the tool provides predictions, it's not a guarantee of accuracy. It's always best to consult a healthcare expert for a reliable diagnosis.\")\n"
      ],
      "metadata": {
        "id": "D70Ay44-A-Kc"
      },
      "execution_count": null,
      "outputs": []
    },
    {
      "cell_type": "code",
      "source": [],
      "metadata": {
        "id": "JBMuq6wmB8AI"
      },
      "execution_count": null,
      "outputs": []
    }
  ]
}